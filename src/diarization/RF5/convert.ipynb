{
 "cells": [
  {
   "cell_type": "code",
   "execution_count": 3,
   "metadata": {},
   "outputs": [
    {
     "name": "stdout",
     "output_type": "stream",
     "text": [
      "Collecting onnx2keras\n",
      "  Using cached onnx2keras-0.0.24.tar.gz (20 kB)\n",
      "  Preparing metadata (setup.py) ... \u001b[?25ldone\n",
      "\u001b[?25h  Using cached onnx2keras-0.0.23.tar.gz (19 kB)\n",
      "  Preparing metadata (setup.py) ... \u001b[?25ldone\n",
      "\u001b[?25h  Using cached onnx2keras-0.0.22.tar.gz (17 kB)\n",
      "  Preparing metadata (setup.py) ... \u001b[?25ldone\n",
      "\u001b[?25h  Using cached onnx2keras-0.0.21.tar.gz (17 kB)\n",
      "  Preparing metadata (setup.py) ... \u001b[?25ldone\n",
      "\u001b[?25h  Using cached onnx2keras-0.0.20.tar.gz (17 kB)\n",
      "  Preparing metadata (setup.py) ... \u001b[?25ldone\n",
      "\u001b[?25h  Using cached onnx2keras-0.0.19.tar.gz (17 kB)\n",
      "  Preparing metadata (setup.py) ... \u001b[?25lerror\n",
      "  \u001b[1;31merror\u001b[0m: \u001b[1msubprocess-exited-with-error\u001b[0m\n",
      "  \n",
      "  \u001b[31m×\u001b[0m \u001b[32mpython setup.py egg_info\u001b[0m did not run successfully.\n",
      "  \u001b[31m│\u001b[0m exit code: \u001b[1;36m1\u001b[0m\n",
      "  \u001b[31m╰─>\u001b[0m \u001b[31m[8 lines of output]\u001b[0m\n",
      "  \u001b[31m   \u001b[0m Traceback (most recent call last):\n",
      "  \u001b[31m   \u001b[0m   File \"<string>\", line 2, in <module>\n",
      "  \u001b[31m   \u001b[0m   File \"<pip-setuptools-caller>\", line 34, in <module>\n",
      "  \u001b[31m   \u001b[0m   File \"/private/var/folders/kg/cq27lp717k7__dzbw3vhp5h80000gn/T/pip-install-0drw4689/onnx2keras_44d84b0e593a4571ad1545ca2499b227/setup.py\", line 16, in <module>\n",
      "  \u001b[31m   \u001b[0m     reqs = [str(ir.req) for ir in install_reqs]\n",
      "  \u001b[31m   \u001b[0m   File \"/private/var/folders/kg/cq27lp717k7__dzbw3vhp5h80000gn/T/pip-install-0drw4689/onnx2keras_44d84b0e593a4571ad1545ca2499b227/setup.py\", line 16, in <listcomp>\n",
      "  \u001b[31m   \u001b[0m     reqs = [str(ir.req) for ir in install_reqs]\n",
      "  \u001b[31m   \u001b[0m AttributeError: 'ParsedRequirement' object has no attribute 'req'\n",
      "  \u001b[31m   \u001b[0m \u001b[31m[end of output]\u001b[0m\n",
      "  \n",
      "  \u001b[1;35mnote\u001b[0m: This error originates from a subprocess, and is likely not a problem with pip.\n",
      "\u001b[?25h\u001b[1;31merror\u001b[0m: \u001b[1mmetadata-generation-failed\u001b[0m\n",
      "\n",
      "\u001b[31m×\u001b[0m Encountered error while generating package metadata.\n",
      "\u001b[31m╰─>\u001b[0m See above for output.\n",
      "\n",
      "\u001b[1;35mnote\u001b[0m: This is an issue with the package mentioned above, not pip.\n",
      "\u001b[1;36mhint\u001b[0m: See above for details.\n"
     ]
    }
   ],
   "source": [
    "# !pip install onnx\n",
    "!pip install onnx2keras"
   ]
  },
  {
   "cell_type": "code",
   "execution_count": 2,
   "metadata": {},
   "outputs": [
    {
     "ename": "ModuleNotFoundError",
     "evalue": "No module named 'onnx2keras'",
     "output_type": "error",
     "traceback": [
      "\u001b[0;31m---------------------------------------------------------------------------\u001b[0m",
      "\u001b[0;31mModuleNotFoundError\u001b[0m                       Traceback (most recent call last)",
      "Cell \u001b[0;32mIn[2], line 2\u001b[0m\n\u001b[1;32m      1\u001b[0m \u001b[39mimport\u001b[39;00m \u001b[39monnx\u001b[39;00m\n\u001b[0;32m----> 2\u001b[0m \u001b[39mfrom\u001b[39;00m \u001b[39monnx2keras\u001b[39;00m \u001b[39mimport\u001b[39;00m onnx_to_keras\n",
      "\u001b[0;31mModuleNotFoundError\u001b[0m: No module named 'onnx2keras'"
     ]
    }
   ],
   "source": [
    "import onnx\n",
    "from onnx2keras import onnx_to_keras"
   ]
  },
  {
   "cell_type": "code",
   "execution_count": null,
   "metadata": {},
   "outputs": [],
   "source": [
    "# Load ONNX model\n",
    "onnx_model = onnx.load('/Users/tugoph/Documents/Documents - Tugoph’s MacBook Pro/GitHub/ScribeAR/ScribeAR.github.io/src/diarization/RF5/simple-speaker-embedding_encoder.onnx')\n",
    "# Call the converter (input will be equal to the input_names parameter that you defined during exporting)\n",
    "k_model = onnx_to_keras(onnx_model, ['input'])"
   ]
  }
 ],
 "metadata": {
  "kernelspec": {
   "display_name": "Python 3",
   "language": "python",
   "name": "python3"
  },
  "language_info": {
   "codemirror_mode": {
    "name": "ipython",
    "version": 3
   },
   "file_extension": ".py",
   "mimetype": "text/x-python",
   "name": "python",
   "nbconvert_exporter": "python",
   "pygments_lexer": "ipython3",
   "version": "3.10.9"
  },
  "orig_nbformat": 4,
  "vscode": {
   "interpreter": {
    "hash": "b11dcd5c85e3180a2dfc3ca21d2071ea0c910954e0e5892b82c84a35e984b34c"
   }
  }
 },
 "nbformat": 4,
 "nbformat_minor": 2
}
